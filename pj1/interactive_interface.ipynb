import ipywidgets as widgets
import requests
import json
import time
from IPython.display import display

# Create the widgets
MedInc = widgets.Text(description='MedInc: ', placeholder='Median Income in block (thousands USD)', layout=widgets.Layout(width='500px'))
HouseAge = widgets.Text(description='HouseAge: ', placeholder='Median house age in block (years)', layout=widgets.Layout(width='500px'))
AveRooms = widgets.Text(description='AveRooms: ', placeholder='Average number of rooms', layout=widgets.Layout(width='500px'))
AveBedrms = widgets.Text(description='AveBedrms: ', placeholder='Average number of bedrooms', layout=widgets.Layout(width='500px'))
Population = widgets.Text(description='Population: ', placeholder='Block population', layout=widgets.Layout(width='500px'))
AveOccup = widgets.Text(description='AveOccup: ', placeholder='Average house occupancy (residents per household)', layout=widgets.Layout(width='500px'))
Latitude = widgets.Text(description='Latitude: ', placeholder='House block latitude (degrees)', layout=widgets.Layout(width='500px'))
Longitude = widgets.Text(description='Longitude: ', placeholder='House block longitude (degrees)', layout=widgets.Layout(width='500px'))
submit = widgets.Button(description="Submit", button_style='success')
output = widgets.Output()
progress = widgets.IntProgress(value=0, min=0, max=30, step=1, description='Loading:', layout=widgets.Layout(width='500px'))


# Function to extract the values from the widgets
def get_values():
    return {
        'medinc': MedInc.value,
        'houseage': HouseAge.value,
        'averooms': AveRooms.value,
        'avebedrms': AveBedrms.value,
        'population': Population.value,
        'aveoccup': AveOccup.value,
        'latitude': Latitude.value,
        'longitude': Longitude.value
    }

# Function to check if all fields have been filled
def check_values(values):
    for key, value in values.items():
        if not value:
            print(f"Please input {key}!")
            return False
    return True

# Function to make the prediction
def make_prediction(values):
    # Define the URL of the web service
    url = "https://us-west2-webscrapingml.cloudfunctions.net/hw2-3_machinelearning"
    # Define the instance for which you want to make a prediction
    instance = list(values.values())
    # Simulate progress
    for i in range(30):
        time.sleep(1)  # replace with real work
        progress.value = i + 1
    # Make the POST request
    response = requests.post(url, json={'instance': instance})
    # Print the prediction
    pred = json.loads(response.text)['prediction']
    with output:
        print(f"The house price prediction is ${round(pred[0]*100000, 2)} dollars.")
    progress.value = 0

def on_button_clicked(b):
    output.clear_output()  # Clear the output
    # Get the values from the widgets
    values = get_values()
    # Check if all values have been filled
    if check_values(values):
        make_prediction(values)
        submit.button_style = 'info'  # Change button color to grey

# Add a title
title = widgets.HTML("<h2 style='padding-left:60px;'>California House Price Prediction Application</h2>")
# Center submit button
invisible_widget = widgets.Label(layout=widgets.Layout(width='200px'))
offset_submit = widgets.HBox([invisible_widget, submit])
# Group widgets
input_widgets = widgets.VBox([MedInc, HouseAge, AveRooms, AveBedrms, Population, AveOccup, Latitude, Longitude, offset_submit, progress, output])
# Add the event handler to the button
submit.on_click(on_button_clicked)
# Display everything
display(title, input_widgets)
